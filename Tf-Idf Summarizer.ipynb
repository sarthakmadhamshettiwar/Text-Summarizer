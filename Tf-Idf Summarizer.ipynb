{
  "nbformat": 4,
  "nbformat_minor": 0,
  "metadata": {
    "colab": {
      "provenance": [],
      "toc_visible": true
    },
    "kernelspec": {
      "name": "python3",
      "display_name": "Python 3"
    },
    "language_info": {
      "name": "python"
    }
  },
  "cells": [
    {
      "cell_type": "markdown",
      "source": [
        "### Tf-Idf Summarizer with Noun Biases and Stop-words ignorance"
      ],
      "metadata": {
        "id": "_EfNvyq_36P-"
      }
    },
    {
      "cell_type": "code",
      "source": [
        "import spacy\n",
        "import numpy as np\n",
        "nlp = spacy.load(\"en_core_web_sm\")  # pre-trained pipeline\n",
        "from sklearn.feature_extraction.text import TfidfVectorizer\n",
        "\n",
        "# remove stopwords before making tokens\n",
        "vectorizer = TfidfVectorizer(stop_words = 'english')\n",
        "\n",
        "# http://research.nii.ac.jp/ntcir/workshop/OnlineProceedings3/NTCIR3-TSC-SekiY.pdf"
      ],
      "metadata": {
        "id": "4y1blM-KqbtU"
      },
      "execution_count": null,
      "outputs": []
    },
    {
      "cell_type": "code",
      "execution_count": null,
      "metadata": {
        "id": "Dul_JltLqUUe"
      },
      "outputs": [],
      "source": [
        "def summarizer(text, num_of_sentences):\n",
        "  doc = nlp(text)\n",
        "\n",
        "\n",
        "  sentences = [sent.text for sent in doc.sents] # convert the document into seperate sentences for processing and ranking sentences according to their tf-idf scores\n",
        "\n",
        "  vectorizer.fit(sentences)\n",
        "  X = vectorizer.transform(sentences)\n",
        "  X = X.toarray() # converting sparse matrix to numpy matrix\n",
        "\n",
        "  n = X.shape[0]  # find the number of sentences in the data\n",
        "\n",
        "  tf_idf_matrix = X.sum(axis=1) # find the sum of score of individual word in sentence and sum them\n",
        "\n",
        "  # writing mean function, so that instead of ranking sentence only on the basis of sum of tf-idf scores, we will also take into consideration number of words present in sentence.\n",
        "  # otherwise larger sentence containing irrelevant words will be ranked higher than smaller sentence which are very relevant\n",
        "  for i in range(0,n):\n",
        "    sent_len = (X[i] != 0).sum(0)\n",
        "    tf_idf_matrix[i] = tf_idf_matrix[i]/sent_len\n",
        "\n",
        "  # Give higher priorities to nouns, numbers, places.\n",
        "  total_numbers = 0\n",
        "  total_places = 0\n",
        "  total_dates = 0\n",
        "  total_nouns = 0\n",
        "\n",
        "  # find total nouns present in the document\n",
        "\n",
        "  for i in range(0,n):\n",
        "    temp_doc = nlp(sentences[i])\n",
        "    for token in temp_doc:\n",
        "      if(token.pos_ == 'PROPN'):\n",
        "        # token is a proper noun\n",
        "        total_nouns += 1\n",
        "\n",
        "      if(token.like_num):\n",
        "        total_numbers += 1\n",
        "\n",
        "    for ent in temp_doc.ents:\n",
        "      if(ent.label_ == 'GPE'):\n",
        "        total_places += 1\n",
        "      elif(ent.label_ == 'DATE'):\n",
        "        total_dates += 1\n",
        "\n",
        "\n",
        "  # optional function -> to increase score of the sentences containing Nouns\n",
        "  for i in range(0,n):\n",
        "    nouns = 0\n",
        "    places = 0\n",
        "    numbers = 0\n",
        "    dates = 0\n",
        "    temp_doc = nlp(sentences[i])\n",
        "    for token in temp_doc:\n",
        "      if(token.pos_ == 'PROPN'):\n",
        "        # token is a proper noun\n",
        "        nouns += 1\n",
        "      if(token.like_num):\n",
        "        numbers += 1\n",
        "      for ent in temp_doc.ents:\n",
        "        if(ent.label_ == 'GPE'):\n",
        "          total_places += 1\n",
        "        elif(ent.label_ == 'DATE'):\n",
        "          total_dates += 1\n",
        "\n",
        "      # increase the tf-idf sentence score of this sentence based on given weightage\n",
        "      total_nouns += 1\n",
        "      total_places += 1\n",
        "      total_numbers += 1\n",
        "      total_dates += 1\n",
        "      tf_idf_matrix[i] = tf_idf_matrix[i]*(1 + ((1.2)*nouns/total_nouns) + (numbers/total_numbers) + ((1.1)*places/total_places) + ((0.8)*dates/total_dates))\n",
        "\n",
        "  sentence_score = np.argsort(tf_idf_matrix, axis=0) # sentence with highest score will be at last, and the one with lowest score will be at beginning\n",
        "  summary = [sentences[score] for score in sentence_score]\n",
        "\n",
        "  summary = summary[-num_of_sentences:]\n",
        "\n",
        "  summary.reverse()\n",
        "\n",
        "  return ' '.join(summary)"
      ]
    },
    {
      "cell_type": "code",
      "source": [
        "text = \"\"\"All is not well in the ruling alliance in Maharashtra. The inclusion of eight Nationalist Congress Party (NCP) MLAs led by Ajit Pawar has upset several Shiv Sena leaders loyal to Chief Minister Eknath Shinde.  The Sena leaders are upset because some of them will not get their desired position in the Shinde-led ministry after Ajit Pawar's stunning switch that split the party founded by his uncle Sharad Pawar. All is not well in the ruling alliance in Maharashtra. The inclusion of eight Nationalist Congress Party (NCP) MLAs led by Ajit Pawar has upset several Shiv Sena leaders loyal to Chief Minister Eknath Shinde.\n",
        "The Sena leaders are upset because some of them will not get their desired position in the Shinde-led ministry after Ajit Pawar's stunning switch that split the party founded by his uncle Sharad Pawar. \"In politics, when our rival gang wants to join us, we have to take them in and that is what the BJP did. After the NCP joined us, people in our group were upset because some of our leaders would not get their desired position,\" Shirsat said. The Shinde Sena MLAs have urged Eknath Shinde and deputy chief minister Devendra Fadnavis to resolve this issue.\n",
        "\"Udhhav Thackeray was used by Sharad Pawar as the Chief Minister. The NCP used to run the government when Uddhav was the Chief Minister. Eknath Shinde will decide the course of action now,\" Shirsat added.\n",
        "Notably, Sena MLAs had cited the inadequate allocation of funds by Ajit Pawar, who was finance minister in the Maha Vikas Aghadi (MVA) government, to their constituencies as one of the reasons for rebelling against Uddhav Thackeray. \"\"\""
      ],
      "metadata": {
        "id": "wZmCWfKHqosD"
      },
      "execution_count": null,
      "outputs": []
    },
    {
      "cell_type": "code",
      "source": [
        "output_sentences = 4\n",
        "text_summary = summarizer(text,output_sentences)"
      ],
      "metadata": {
        "id": "f3CQA_Y8qsKf"
      },
      "execution_count": null,
      "outputs": []
    },
    {
      "cell_type": "code",
      "source": [
        "text_summary"
      ],
      "metadata": {
        "colab": {
          "base_uri": "https://localhost:8080/",
          "height": 70
        },
        "id": "weARZZa2qwsl",
        "outputId": "1b30428a-f8e8-4f52-db93-f2003af4ca38"
      },
      "execution_count": null,
      "outputs": [
        {
          "output_type": "execute_result",
          "data": {
            "text/plain": [
              "'The inclusion of eight Nationalist Congress Party (NCP) MLAs led by Ajit Pawar has upset several Shiv Sena leaders loyal to Chief Minister Eknath Shinde.   The inclusion of eight Nationalist Congress Party (NCP) MLAs led by Ajit Pawar has upset several Shiv Sena leaders loyal to Chief Minister Eknath Shinde. \\n All is not well in the ruling alliance in Maharashtra. All is not well in the ruling alliance in Maharashtra.'"
            ],
            "application/vnd.google.colaboratory.intrinsic+json": {
              "type": "string"
            }
          },
          "metadata": {},
          "execution_count": 14
        }
      ]
    },
    {
      "cell_type": "code",
      "source": [],
      "metadata": {
        "id": "Gqn-X1QfJGux"
      },
      "execution_count": null,
      "outputs": []
    }
  ]
}